{
 "cells": [
  {
   "cell_type": "code",
   "execution_count": null,
   "metadata": {
    "collapsed": true
   },
   "outputs": [],
   "source": [
    "import matplotlib.pyplot as plt\n",
    "import matplotlib.gridspec as gridspec\n",
    "import numpy as np\n",
    "from itertools import product\n",
    "\n",
    "def squiggle_xy(a, b, c, d, i=np.arange(0.0, 2*np.pi, 0.05)):\n",
    "    return np.sin(i*a)*np.cos(i*b), np.sin(i*c)*np.cos(i*d)\n",
    "\n",
    "fig = plt.figure(figsize=(8, 8))\n",
    "\n",
    "# gridspec inside gridspec\n",
    "outer_grid = gridspec.GridSpec(4, 4, wspace=0.0, hspace=0.0)\n",
    "\n",
    "for i in range(16):\n",
    "    inner_grid = gridspec.GridSpecFromSubplotSpec(3, 3,\n",
    "            subplot_spec=outer_grid[i], wspace=0.0, hspace=0.0)\n",
    "    a, b = int(i/4)+1,i%4+1\n",
    "    for j, (c, d) in enumerate(product(range(1, 4), repeat=2)):\n",
    "        ax = plt.Subplot(fig, inner_grid[j])\n",
    "        ax.plot(*squiggle_xy(a, b, c, d))\n",
    "        ax.set_xticks([])\n",
    "        ax.set_yticks([])\n",
    "        fig.add_subplot(ax)\n",
    "\n",
    "all_axes = fig.get_axes()\n",
    "\n",
    "#show only the outside spines\n",
    "for ax in all_axes:\n",
    "    for sp in ax.spines.values():\n",
    "        sp.set_visible(False)\n",
    "    if ax.is_first_row():\n",
    "        ax.spines['top'].set_visible(True)\n",
    "    if ax.is_last_row():\n",
    "        ax.spines['bottom'].set_visible(True)\n",
    "    if ax.is_first_col():\n",
    "        ax.spines['left'].set_visible(True)\n",
    "    if ax.is_last_col():\n",
    "        ax.spines['right'].set_visible(True)\n",
    "\n",
    "plt.show()"
   ]
  },
  {
   "cell_type": "code",
   "execution_count": null,
   "metadata": {
    "collapsed": true
   },
   "outputs": [],
   "source": []
  }
 ],
 "metadata": {
  "kernelspec": {
   "display_name": "Python 2",
   "language": "python",
   "name": "python2"
  },
  "language_info": {
   "codemirror_mode": {
    "name": "ipython",
    "version": 2
   },
   "file_extension": ".py",
   "mimetype": "text/x-python",
   "name": "python",
   "nbconvert_exporter": "python",
   "pygments_lexer": "ipython2",
   "version": "2.7.11"
  }
 },
 "nbformat": 4,
 "nbformat_minor": 0
}
